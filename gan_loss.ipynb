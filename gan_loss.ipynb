{
  "nbformat": 4,
  "nbformat_minor": 0,
  "metadata": {
    "colab": {
      "name": "gan_loss.ipynb",
      "provenance": [],
      "collapsed_sections": [],
      "include_colab_link": true
    },
    "kernelspec": {
      "name": "python3",
      "display_name": "Python 3"
    },
    "accelerator": "GPU"
  },
  "cells": [
    {
      "cell_type": "markdown",
      "metadata": {
        "id": "view-in-github",
        "colab_type": "text"
      },
      "source": [
        "<a href=\"https://colab.research.google.com/github/ThierryJudge/colabs/blob/master/gan_loss.ipynb\" target=\"_parent\"><img src=\"https://colab.research.google.com/assets/colab-badge.svg\" alt=\"Open In Colab\"/></a>"
      ]
    },
    {
      "cell_type": "code",
      "metadata": {
        "id": "MA1vpuD_NkhZ",
        "colab_type": "code",
        "outputId": "142d7d8e-ffb2-4138-b0db-054e07d2ceea",
        "colab": {
          "base_uri": "https://localhost:8080/",
          "height": 82
        }
      },
      "source": [
        "import tensorflow as tf\n",
        "from tensorflow.python.keras.datasets import mnist\n",
        "import numpy as np\n",
        "from matplotlib import pyplot as plt\n",
        "from sklearn.utils import shuffle\n",
        "import keras.backend as K\n",
        "from matplotlib import pyplot as plt\n",
        "from tqdm import tqdm\n",
        "import numpy as np\n",
        "from tqdm import tqdm\n",
        "import matplotlib.pyplot as plt\n",
        "\n",
        "import keras\n",
        "from keras.layers import Input\n",
        "from keras.models import Model, Sequential\n",
        "from keras.layers.core import Reshape, Dense, Dropout, Flatten\n",
        "from keras.layers.advanced_activations import LeakyReLU\n",
        "from keras.layers.convolutional import Convolution2D, UpSampling2D\n",
        "from keras.layers.normalization import BatchNormalization\n",
        "from keras.datasets import mnist\n",
        "from keras.optimizers import Adam\n",
        "from keras import backend as K\n",
        "from keras import initializers"
      ],
      "execution_count": 1,
      "outputs": [
        {
          "output_type": "display_data",
          "data": {
            "text/html": [
              "<p style=\"color: red;\">\n",
              "The default version of TensorFlow in Colab will soon switch to TensorFlow 2.x.<br>\n",
              "We recommend you <a href=\"https://www.tensorflow.org/guide/migrate\" target=\"_blank\">upgrade</a> now \n",
              "or ensure your notebook will continue to use TensorFlow 1.x via the <code>%tensorflow_version 1.x</code> magic:\n",
              "<a href=\"https://colab.research.google.com/notebooks/tensorflow_version.ipynb\" target=\"_blank\">more info</a>.</p>\n"
            ],
            "text/plain": [
              "<IPython.core.display.HTML object>"
            ]
          },
          "metadata": {
            "tags": []
          }
        },
        {
          "output_type": "stream",
          "text": [
            "Using TensorFlow backend.\n"
          ],
          "name": "stderr"
        }
      ]
    },
    {
      "cell_type": "code",
      "metadata": {
        "id": "Ac5-S1LONuX4",
        "colab_type": "code",
        "outputId": "7c8d623d-4dac-41d9-df7f-da182e2624a2",
        "colab": {
          "base_uri": "https://localhost:8080/",
          "height": 88
        }
      },
      "source": [
        "(x_train, y_train), (x_test, y_test) = mnist.load_data()\n",
        "\n",
        "X_train = x_train[..., None] / 255\n",
        "X_test = x_test[..., None] / 255\n",
        "\n",
        "y_train = tf.keras.utils.to_categorical(y_train, num_classes=10)\n",
        "y_test = tf.keras.utils.to_categorical(y_test, num_classes=10)\n",
        "\n",
        "\n",
        "print(X_train.shape)\n",
        "print(y_train.shape)\n",
        "print(X_test.shape)\n",
        "print(y_test.shape)"
      ],
      "execution_count": 2,
      "outputs": [
        {
          "output_type": "stream",
          "text": [
            "(60000, 28, 28, 1)\n",
            "(60000, 10)\n",
            "(10000, 28, 28, 1)\n",
            "(10000, 10)\n"
          ],
          "name": "stdout"
        }
      ]
    },
    {
      "cell_type": "code",
      "metadata": {
        "id": "B6bjz5MrN3wr",
        "colab_type": "code",
        "colab": {}
      },
      "source": [
        "def build_generator():\n",
        "    input_layer = Input(shape=(28, 28, 1))\n",
        "    x = input_layer\n",
        "    x = keras.layers.Conv2D(32, (3, 3), activation=LeakyReLU(0.2), padding='same')(x)\n",
        "    x = Flatten()(x)\n",
        "    x = Dense(128, activation=LeakyReLU(0.2), kernel_initializer=initializers.RandomNormal(stddev=0.02))(x)\n",
        "    #x = Dense(128, activation=LeakyReLU(0.2))(x)\n",
        "\n",
        "    x = BatchNormalization()(x)\n",
        "\n",
        "    x = Dense(10, activation='softmax')(x)\n",
        "    \n",
        "    model = Model(input_layer, x)\n",
        "    return model"
      ],
      "execution_count": 0,
      "outputs": []
    },
    {
      "cell_type": "code",
      "metadata": {
        "id": "4-eAXPW3OBvh",
        "colab_type": "code",
        "colab": {}
      },
      "source": [
        "def build_discriminator():\n",
        "    input_layer1 = Input(shape=(10,))\n",
        "    input_layer2 = Input(shape=(10,))\n",
        "    x = keras.layers.Concatenate(axis=-1)([input_layer1, input_layer2])\n",
        "    x = Dense(128, activation=LeakyReLU(0.2), kernel_initializer=initializers.RandomNormal(stddev=0.02))(x)\n",
        "    #x = Dense(128, activation=LeakyReLU(0.2))(x)\n",
        "\n",
        "    x = BatchNormalization()(x)\n",
        "    x = Dense(1, activation='sigmoid')(x)\n",
        "    \n",
        "    model = Model([input_layer1, input_layer2], x)\n",
        "    return model"
      ],
      "execution_count": 0,
      "outputs": []
    },
    {
      "cell_type": "code",
      "metadata": {
        "id": "ComE58V6cZki",
        "colab_type": "code",
        "colab": {}
      },
      "source": [
        "def f1(y_true, y_pred):\n",
        "    def recall(y_true, y_pred):\n",
        "        \"\"\"Recall metric.\n",
        "\n",
        "        Only computes a batch-wise average of recall.\n",
        "\n",
        "        Computes the recall, a metric for multi-label classification of\n",
        "        how many relevant items are selected.\n",
        "        \"\"\"\n",
        "        true_positives = K.sum(K.round(K.clip(y_true * y_pred, 0, 1)))\n",
        "        possible_positives = K.sum(K.round(K.clip(y_true, 0, 1)))\n",
        "        recall = true_positives / (possible_positives + K.epsilon())\n",
        "        return recall\n",
        "\n",
        "    def precision(y_true, y_pred):\n",
        "        \"\"\"Precision metric.\n",
        "\n",
        "        Only computes a batch-wise average of precision.\n",
        "\n",
        "        Computes the precision, a metric for multi-label classification of\n",
        "        how many selected items are relevant.\n",
        "        \"\"\"\n",
        "        true_positives = K.sum(K.round(K.clip(y_true * y_pred, 0, 1)))\n",
        "        predicted_positives = K.sum(K.round(K.clip(y_pred, 0, 1)))\n",
        "        precision = true_positives / (predicted_positives + K.epsilon())\n",
        "        return precision\n",
        "    precision = precision(y_true, y_pred)\n",
        "    recall = recall(y_true, y_pred)\n",
        "    return 2*((precision*recall)/(precision+recall+K.epsilon()))"
      ],
      "execution_count": 0,
      "outputs": []
    },
    {
      "cell_type": "code",
      "metadata": {
        "id": "-jO8fKnCOgkD",
        "colab_type": "code",
        "outputId": "3fa7e97c-2fed-4649-e08f-07e09f6472be",
        "colab": {
          "base_uri": "https://localhost:8080/",
          "height": 410
        }
      },
      "source": [
        "keras.backend.clear_session()\n",
        "\n",
        "adam = Adam(lr=0.0002, beta_1=0.5)\n",
        "\n",
        "# Generator \n",
        "generator = build_generator()\n",
        "generator.compile(loss='categorical_crossentropy', optimizer=adam, metrics=['accuracy'])\n",
        "# generator.summary()\n",
        "\n",
        "# Discriminator\n",
        "discriminator = build_discriminator()\n",
        "discriminator.compile(loss='binary_crossentropy', optimizer=adam, metrics=['accuracy', f1])\n",
        "# discriminator.summary()\n",
        "\n",
        "# Combined network\n",
        "discriminator.trainable = False\n",
        "image_input = Input(shape=(28, 28, 1))\n",
        "gt_input = Input(shape=(10,))\n",
        "\n",
        "x = generator(image_input)\n",
        "ganOutput = discriminator([x, gt_input])\n",
        "gan = Model(inputs=[image_input, gt_input], outputs=ganOutput)\n",
        "gan.compile(loss='binary_crossentropy', optimizer=adam)\n",
        "#gan.summary()"
      ],
      "execution_count": 6,
      "outputs": [
        {
          "output_type": "stream",
          "text": [
            "WARNING:tensorflow:From /usr/local/lib/python3.6/dist-packages/keras/backend/tensorflow_backend.py:107: The name tf.reset_default_graph is deprecated. Please use tf.compat.v1.reset_default_graph instead.\n",
            "\n",
            "WARNING:tensorflow:From /usr/local/lib/python3.6/dist-packages/keras/backend/tensorflow_backend.py:111: The name tf.placeholder_with_default is deprecated. Please use tf.compat.v1.placeholder_with_default instead.\n",
            "\n",
            "WARNING:tensorflow:From /usr/local/lib/python3.6/dist-packages/keras/backend/tensorflow_backend.py:66: The name tf.get_default_graph is deprecated. Please use tf.compat.v1.get_default_graph instead.\n",
            "\n",
            "WARNING:tensorflow:From /usr/local/lib/python3.6/dist-packages/keras/backend/tensorflow_backend.py:541: The name tf.placeholder is deprecated. Please use tf.compat.v1.placeholder instead.\n",
            "\n",
            "WARNING:tensorflow:From /usr/local/lib/python3.6/dist-packages/keras/backend/tensorflow_backend.py:4432: The name tf.random_uniform is deprecated. Please use tf.random.uniform instead.\n",
            "\n",
            "WARNING:tensorflow:From /usr/local/lib/python3.6/dist-packages/keras/backend/tensorflow_backend.py:4409: The name tf.random_normal is deprecated. Please use tf.random.normal instead.\n",
            "\n",
            "WARNING:tensorflow:From /usr/local/lib/python3.6/dist-packages/keras/optimizers.py:793: The name tf.train.Optimizer is deprecated. Please use tf.compat.v1.train.Optimizer instead.\n",
            "\n",
            "WARNING:tensorflow:From /usr/local/lib/python3.6/dist-packages/keras/backend/tensorflow_backend.py:3576: The name tf.log is deprecated. Please use tf.math.log instead.\n",
            "\n"
          ],
          "name": "stdout"
        },
        {
          "output_type": "stream",
          "text": [
            "/usr/local/lib/python3.6/dist-packages/keras/activations.py:235: UserWarning: Do not pass a layer instance (such as LeakyReLU) as the activation argument of another layer. Instead, advanced activation layers should be used just like any other layer in a model.\n",
            "  identifier=identifier.__class__.__name__))\n"
          ],
          "name": "stderr"
        },
        {
          "output_type": "stream",
          "text": [
            "WARNING:tensorflow:From /usr/local/lib/python3.6/dist-packages/tensorflow_core/python/ops/nn_impl.py:183: where (from tensorflow.python.ops.array_ops) is deprecated and will be removed in a future version.\n",
            "Instructions for updating:\n",
            "Use tf.where in 2.0, which has the same broadcast rule as np.where\n"
          ],
          "name": "stdout"
        }
      ]
    },
    {
      "cell_type": "code",
      "metadata": {
        "id": "-wUjIsEyOu_o",
        "colab_type": "code",
        "outputId": "13443127-bbe5-436a-daf9-c25ac46269ea",
        "colab": {
          "base_uri": "https://localhost:8080/",
          "height": 1000
        }
      },
      "source": [
        "batchSize = 32\n",
        "epochs = 40\n",
        "batchCount = X_train.shape[0] / batchSize\n",
        "\n",
        "dLosses = []\n",
        "gLosses = []\n",
        "\n",
        "gacc = []\n",
        "gl = []\n",
        "dacc = []\n",
        "dl = []\n",
        "\n",
        "# generator.fit(X_train, y_train, epochs=2)\n",
        "x_batch = X_train[0 * batchSize:(0 + 1) * batchSize]\n",
        "y_batch = y_train[0 * batchSize:(0 + 1) * batchSize]\n",
        "y_hat = generator.predict(x_batch)\n",
        "z = np.equal(np.argmax(y_hat, axis=-1), np.argmax(y_batch, axis=-1)) * 1\n",
        "\n",
        "print(\"Epochs: {}\".format(0))\n",
        "gen_eval = generator.evaluate(X_train, y_train, verbose=0)\n",
        "print(\"Generator loss: {}, accuracy: {}\".format(gen_eval[0], gen_eval[1]))\n",
        "dis_eval = discriminator.evaluate([y_hat, y_batch], z, verbose=0)\n",
        "print(\"Discriminator loss: {}, accuracy: {}, f1: {}\".format(dis_eval[0], dis_eval[1], dis_eval[2]))\n",
        "\n",
        "for e in range(1, epochs+1):\n",
        "  print(\"Epochs: {}\".format(e))\n",
        "  for i in (range(int(batchCount))):\n",
        "    \n",
        "    x_batch = X_train[i * batchSize:(i + 1) * batchSize]\n",
        "    y_batch = y_train[i * batchSize:(i + 1) * batchSize]\n",
        "\n",
        "    #if i < 5:\n",
        "    \n",
        "    y_hat = generator.predict(x_batch)\n",
        "\n",
        "    # Get discriminator labels\n",
        "    z = (np.equal(np.argmax(y_hat, axis=-1), np.argmax(y_batch, axis=-1)) == 1) * 1\n",
        "\n",
        "    # Train discriminator\n",
        "    discriminator.trainable = True\n",
        "    class_weight = {0: 1.,\n",
        "                    1: 2.}\n",
        "    dloss = discriminator.train_on_batch([y_hat, y_batch], z, class_weight=None)\n",
        "\n",
        "\n",
        "    # Train generator\n",
        "    yGen = np.ones(batchSize) \n",
        "    discriminator.trainable = False\n",
        "    gloss = gan.train_on_batch([x_batch, y_batch], yGen)\n",
        "\n",
        "  dLosses.append(dloss[0])\n",
        "  gLosses.append(gloss)\n",
        "\n",
        "  gen_eval = generator.evaluate(X_train, y_train, verbose=0)\n",
        "  print(\"Generator loss: {}, accuracy: {}\".format(gen_eval[0], gen_eval[1]))\n",
        "  dis_eval = discriminator.evaluate([y_hat, y_batch], z, verbose=0)\n",
        "  print(\"Discriminator loss: {}, accuracy: {}, f1: {}\".format(dis_eval[0], dis_eval[1], dis_eval[2]))\n",
        "\n",
        "  gacc.append(gen_eval[1])\n",
        "  gl.append(gen_eval[0])\n",
        "  \n",
        "  dacc.append(dis_eval[1])\n",
        "  dl.append(dis_eval[0])\n",
        "\n",
        "\n",
        "plt.figure(figsize=(10, 8))\n",
        "plt.plot(dLosses, label='Discriminitive loss')\n",
        "plt.plot(gLosses, label='Generative loss')\n",
        "plt.xlabel('Epoch')\n",
        "plt.ylabel('Loss')\n",
        "plt.legend()\n",
        "plt.plot()\n",
        "\n",
        "\n",
        "plt.figure(figsize=(10, 8))\n",
        "plt.plot(dacc, label='Discriminitive accuracy')\n",
        "# plt.plot(gl, label='Discriminitive loss')\n",
        "\n",
        "plt.plot(gacc, label='Generative accuracy')\n",
        "# plt.plot(gl, label='Generative loss')\n",
        "\n",
        "plt.xlabel('Epoch')\n",
        "plt.ylabel('Accuracy')\n",
        "plt.legend()\n",
        "plt.plot()"
      ],
      "execution_count": 7,
      "outputs": [
        {
          "output_type": "stream",
          "text": [
            "WARNING:tensorflow:From /usr/local/lib/python3.6/dist-packages/keras/backend/tensorflow_backend.py:3005: The name tf.Session is deprecated. Please use tf.compat.v1.Session instead.\n",
            "\n",
            "WARNING:tensorflow:From /usr/local/lib/python3.6/dist-packages/keras/backend/tensorflow_backend.py:190: The name tf.get_default_session is deprecated. Please use tf.compat.v1.get_default_session instead.\n",
            "\n",
            "WARNING:tensorflow:From /usr/local/lib/python3.6/dist-packages/keras/backend/tensorflow_backend.py:197: The name tf.ConfigProto is deprecated. Please use tf.compat.v1.ConfigProto instead.\n",
            "\n",
            "WARNING:tensorflow:From /usr/local/lib/python3.6/dist-packages/keras/backend/tensorflow_backend.py:207: The name tf.global_variables is deprecated. Please use tf.compat.v1.global_variables instead.\n",
            "\n",
            "WARNING:tensorflow:From /usr/local/lib/python3.6/dist-packages/keras/backend/tensorflow_backend.py:216: The name tf.is_variable_initialized is deprecated. Please use tf.compat.v1.is_variable_initialized instead.\n",
            "\n",
            "WARNING:tensorflow:From /usr/local/lib/python3.6/dist-packages/keras/backend/tensorflow_backend.py:223: The name tf.variables_initializer is deprecated. Please use tf.compat.v1.variables_initializer instead.\n",
            "\n",
            "Epochs: 0\n",
            "Generator loss: 2.3359205463409425, accuracy: 0.13023333333333334\n",
            "Discriminator loss: 0.6847715377807617, accuracy: 0.75, f1: 0.0\n",
            "Epochs: 1\n",
            "WARNING:tensorflow:From /usr/local/lib/python3.6/dist-packages/keras/backend/tensorflow_backend.py:1033: The name tf.assign_add is deprecated. Please use tf.compat.v1.assign_add instead.\n",
            "\n",
            "WARNING:tensorflow:From /usr/local/lib/python3.6/dist-packages/keras/backend/tensorflow_backend.py:1020: The name tf.assign is deprecated. Please use tf.compat.v1.assign instead.\n",
            "\n",
            "Generator loss: 10.43459360148112, accuracy: 0.0007166666666666667\n",
            "Discriminator loss: 0.0030670175328850746, accuracy: 1.0, f1: 0.0\n",
            "Epochs: 2\n",
            "Generator loss: 11.49144443613688, accuracy: 0.0005833333333333334\n",
            "Discriminator loss: 0.0007694364176131785, accuracy: 1.0, f1: 0.0\n",
            "Epochs: 3\n",
            "Generator loss: 11.019632411702474, accuracy: 0.00021666666666666666\n",
            "Discriminator loss: 0.00036238200846128166, accuracy: 1.0, f1: 0.0\n",
            "Epochs: 4\n",
            "Generator loss: 11.271329702250164, accuracy: 0.0001\n",
            "Discriminator loss: 0.0005079074762761593, accuracy: 1.0, f1: 0.0\n",
            "Epochs: 5\n",
            "Generator loss: 11.446128263346354, accuracy: 8.333333333333333e-05\n",
            "Discriminator loss: 5.247458830126561e-05, accuracy: 1.0, f1: 0.0\n",
            "Epochs: 6\n",
            "Generator loss: 1.6411690570831299, accuracy: 0.41336666666666666\n",
            "Discriminator loss: 0.2741473913192749, accuracy: 0.96875, f1: 0.967741847038269\n",
            "Epochs: 7\n",
            "Generator loss: 2.3340594168345135, accuracy: 0.0029833333333333335\n",
            "Discriminator loss: 0.006929429713636637, accuracy: 1.0, f1: 0.0\n",
            "Epochs: 8\n",
            "Generator loss: 2.379386920674642, accuracy: 0.00195\n",
            "Discriminator loss: 0.003851325251162052, accuracy: 1.0, f1: 0.0\n",
            "Epochs: 9\n",
            "Generator loss: 2.4373208497365315, accuracy: 0.0017666666666666666\n",
            "Discriminator loss: 0.005114020314067602, accuracy: 1.0, f1: 0.0\n",
            "Epochs: 10\n",
            "Generator loss: 2.5156409191131592, accuracy: 0.0015833333333333333\n",
            "Discriminator loss: 0.004267438314855099, accuracy: 1.0, f1: 0.0\n",
            "Epochs: 11\n",
            "Generator loss: 2.647827629725138, accuracy: 0.0003333333333333333\n",
            "Discriminator loss: 0.0015997582813724875, accuracy: 1.0, f1: 0.0\n",
            "Epochs: 12\n",
            "Generator loss: 3.6088348857879637, accuracy: 0.0002\n",
            "Discriminator loss: 0.0004989803419448435, accuracy: 1.0, f1: 0.0\n",
            "Epochs: 13\n",
            "Generator loss: 3.9120290417989096, accuracy: 3.3333333333333335e-05\n",
            "Discriminator loss: 0.00010117262718267739, accuracy: 1.0, f1: 0.0\n",
            "Epochs: 14\n",
            "Generator loss: 4.708697360610962, accuracy: 0.00031666666666666665\n",
            "Discriminator loss: 0.0002004492562264204, accuracy: 1.0, f1: 0.0\n",
            "Epochs: 15\n",
            "Generator loss: 2.0538914175669354, accuracy: 0.57705\n",
            "Discriminator loss: 0.46060875058174133, accuracy: 0.6875, f1: 0.7727271914482117\n",
            "Epochs: 16\n",
            "Generator loss: 2.327374187088013, accuracy: 0.006066666666666666\n",
            "Discriminator loss: 0.010750362649559975, accuracy: 1.0, f1: 0.0\n",
            "Epochs: 17\n",
            "Generator loss: 2.304692761357625, accuracy: 0.0019666666666666665\n",
            "Discriminator loss: 0.00274510751478374, accuracy: 1.0, f1: 0.0\n",
            "Epochs: 18\n",
            "Generator loss: 2.326826504389445, accuracy: 0.00075\n",
            "Discriminator loss: 0.001689224038273096, accuracy: 1.0, f1: 0.0\n",
            "Epochs: 19\n",
            "Generator loss: 2.4482125264485677, accuracy: 0.00013333333333333334\n",
            "Discriminator loss: 0.002296317368745804, accuracy: 1.0, f1: 0.0\n",
            "Epochs: 20\n",
            "Generator loss: 2.4062235116322834, accuracy: 0.00011666666666666667\n",
            "Discriminator loss: 0.0011761831119656563, accuracy: 1.0, f1: 0.0\n",
            "Epochs: 21\n",
            "Generator loss: 2.6622669319152834, accuracy: 0.00011666666666666667\n",
            "Discriminator loss: 0.000412528810556978, accuracy: 1.0, f1: 0.0\n",
            "Epochs: 22\n",
            "Generator loss: 2.8607444526672365, accuracy: 0.0005\n",
            "Discriminator loss: 0.002607840346172452, accuracy: 1.0, f1: 0.0\n",
            "Epochs: 23\n",
            "Generator loss: 2.20659475440979, accuracy: 0.019316666666666666\n",
            "Discriminator loss: 0.19711077213287354, accuracy: 0.9375, f1: 0.0\n",
            "Epochs: 24\n",
            "Generator loss: 2.269298746109009, accuracy: 0.02225\n",
            "Discriminator loss: 0.13063815236091614, accuracy: 0.96875, f1: 0.0\n",
            "Epochs: 25\n",
            "Generator loss: 2.3376800156911215, accuracy: 0.014033333333333333\n",
            "Discriminator loss: 0.01233556866645813, accuracy: 1.0, f1: 0.0\n",
            "Epochs: 26\n",
            "Generator loss: 2.348242597325643, accuracy: 0.00095\n",
            "Discriminator loss: 0.005463417619466782, accuracy: 1.0, f1: 0.0\n",
            "Epochs: 27\n",
            "Generator loss: 2.4129096078236896, accuracy: 0.00028333333333333335\n",
            "Discriminator loss: 0.004782831761986017, accuracy: 1.0, f1: 0.0\n",
            "Epochs: 28\n",
            "Generator loss: 2.4598582003275555, accuracy: 0.0027333333333333333\n",
            "Discriminator loss: 0.003354903543367982, accuracy: 1.0, f1: 0.0\n",
            "Epochs: 29\n",
            "Generator loss: 2.398020045344035, accuracy: 0.00011666666666666667\n",
            "Discriminator loss: 0.0010277871042490005, accuracy: 1.0, f1: 0.0\n",
            "Epochs: 30\n",
            "Generator loss: 2.393805813852946, accuracy: 0.0006833333333333333\n",
            "Discriminator loss: 0.0009220323991030455, accuracy: 1.0, f1: 0.0\n",
            "Epochs: 31\n",
            "Generator loss: 2.435866485850016, accuracy: 0.00015\n",
            "Discriminator loss: 0.0006901631713844836, accuracy: 1.0, f1: 0.0\n",
            "Epochs: 32\n",
            "Generator loss: 1.7025538422266642, accuracy: 0.66695\n",
            "Discriminator loss: 0.4770624041557312, accuracy: 0.75, f1: 0.8181817531585693\n",
            "Epochs: 33\n",
            "Generator loss: 1.8068286340077717, accuracy: 0.6701666666666667\n",
            "Discriminator loss: 0.42050138115882874, accuracy: 0.90625, f1: 0.9387754201889038\n",
            "Epochs: 34\n",
            "Generator loss: 1.820660511525472, accuracy: 0.6878833333333333\n",
            "Discriminator loss: 0.3640124797821045, accuracy: 0.9375, f1: 0.9565216898918152\n",
            "Epochs: 35\n",
            "Generator loss: 1.8218286614100139, accuracy: 0.7881\n",
            "Discriminator loss: 0.30394697189331055, accuracy: 0.90625, f1: 0.9508196115493774\n",
            "Epochs: 36\n",
            "Generator loss: 1.8314817271550496, accuracy: 0.7626\n",
            "Discriminator loss: 0.23846855759620667, accuracy: 0.9375, f1: 0.9666666388511658\n",
            "Epochs: 37\n",
            "Generator loss: 1.826490204747518, accuracy: 0.8004166666666667\n",
            "Discriminator loss: 0.25856906175613403, accuracy: 0.96875, f1: 0.9811320304870605\n",
            "Epochs: 38\n",
            "Generator loss: 1.8216728593190512, accuracy: 0.8117666666666666\n",
            "Discriminator loss: 0.3204778730869293, accuracy: 0.875, f1: 0.9259258508682251\n",
            "Epochs: 39\n",
            "Generator loss: 1.8174785242716471, accuracy: 0.8625\n",
            "Discriminator loss: 0.2587328553199768, accuracy: 0.90625, f1: 0.9508196115493774\n",
            "Epochs: 40\n",
            "Generator loss: 1.821260798517863, accuracy: 0.8227333333333333\n",
            "Discriminator loss: 0.23977625370025635, accuracy: 0.9375, f1: 0.9655172228813171\n"
          ],
          "name": "stdout"
        },
        {
          "output_type": "execute_result",
          "data": {
            "text/plain": [
              "[]"
            ]
          },
          "metadata": {
            "tags": []
          },
          "execution_count": 7
        },
        {
          "output_type": "display_data",
          "data": {
            "image/png": "[encoded data removed]",
            "text/plain": [
              "<Figure size 720x576 with 1 Axes>"
            ]
          },
          "metadata": {
            "tags": []
          }
        },
        {
          "output_type": "display_data",
          "data": {
            "image/png": "[encoded data removed]",
            "text/plain": [
              "<Figure size 720x576 with 1 Axes>"
            ]
          },
          "metadata": {
            "tags": []
          }
        }
      ]
    },
    {
      "cell_type": "code",
      "metadata": {
        "id": "XlUR_0BbSSyV",
        "colab_type": "code",
        "outputId": "c6ded75b-7f4b-4120-d299-d75d542523aa",
        "colab": {
          "base_uri": "https://localhost:8080/",
          "height": 35
        }
      },
      "source": [
        "  \n",
        "pred = generator.predict(X_train)\n",
        "pred = np.argmax(pred, axis=-1)\n",
        "gt = np.argmax(y_train, axis=-1)\n",
        "\n",
        "print(np.sum(np.equal(pred, gt))/len(gt))\n"
      ],
      "execution_count": 8,
      "outputs": [
        {
          "output_type": "stream",
          "text": [
            "0.8227333333333333\n"
          ],
          "name": "stdout"
        }
      ]
    },
    {
      "cell_type": "code",
      "metadata": {
        "id": "knETvrSv65DJ",
        "colab_type": "code",
        "outputId": "8a1c8b03-b5dd-43f0-c59f-d79c5d760556",
        "colab": {
          "base_uri": "https://localhost:8080/",
          "height": 35
        }
      },
      "source": [
        "  gen_eval = generator.evaluate(X_test, y_test, verbose=0)\n",
        "  print(\"Generator loss: {}, accuracy: {}\".format(gen_eval[0], gen_eval[1]))"
      ],
      "execution_count": 9,
      "outputs": [
        {
          "output_type": "stream",
          "text": [
            "Generator loss: 1.8134713214874267, accuracy: 0.8245\n"
          ],
          "name": "stdout"
        }
      ]
    },
    {
      "cell_type": "code",
      "metadata": {
        "id": "IIOz0vDMOkXU",
        "colab_type": "code",
        "colab": {}
      },
      "source": [
        ""
      ],
      "execution_count": 0,
      "outputs": []
    }
  ]
}